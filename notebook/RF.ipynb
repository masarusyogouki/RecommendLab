{
 "cells": [
  {
   "cell_type": "code",
   "execution_count": 1,
   "id": "e00f18ae",
   "metadata": {},
   "outputs": [],
   "source": [
    "%load_ext autoreload\n",
    "%autoreload 2"
   ]
  },
  {
   "cell_type": "code",
   "execution_count": 2,
   "id": "8d5dc3ad",
   "metadata": {},
   "outputs": [],
   "source": [
    "# 親のフォルダのパスを追加\n",
    "import sys; sys.path.insert(0, '..')\n",
    "\n",
    "from util.data_loader import DataLoader\n",
    "from util.metric_calculator import MetricCalculator"
   ]
  },
  {
   "cell_type": "code",
   "execution_count": 3,
   "id": "6b49e02d",
   "metadata": {},
   "outputs": [],
   "source": [
    "# Movielensのデータの読み込み\n",
    "data_loader = DataLoader(num_users=1000, num_test_items=5, data_path='../data/ml-10M100K/')\n",
    "movielens = data_loader.load()"
   ]
  },
  {
   "cell_type": "code",
   "execution_count": 4,
   "id": "7bfdc76d",
   "metadata": {},
   "outputs": [
    {
     "name": "stderr",
     "output_type": "stream",
     "text": [
      "/home/masaru/RecommendLab/notebook/../src/rf.py:26: FutureWarning: The previous implementation of stack is deprecated and will be removed in a future version of pandas. See the What's New notes for pandas 2.1.0 for details. Specify future_stack=True to adopt the new implementation and silence this warning.\n",
      "  train_all_keys = user_movie_matrix.stack(dropna=False).reset_index()[[\"user_id\", \"movie_id\"]]\n",
      "/home/masaru/RecommendLab/notebook/../src/rf.py:53: SettingWithCopyWarning: \n",
      "A value is trying to be set on a copy of a slice from a DataFrame.\n",
      "Try using .loc[row_indexer,col_indexer] = value instead\n",
      "\n",
      "See the caveats in the documentation: https://pandas.pydata.org/pandas-docs/stable/user_guide/indexing.html#returning-a-view-versus-a-copy\n",
      "  movie_genres[f\"is_{genre}\"] = movie_genres.genre.apply(lambda x: genre in x)\n"
     ]
    }
   ],
   "source": [
    "# Random Forest を用いた回帰レコメンド\n",
    "from src.rf import RFRecommender\n",
    "recommender = RFRecommender()\n",
    "recommend_result = recommender.recommend(movielens)"
   ]
  },
  {
   "cell_type": "code",
   "execution_count": 5,
   "id": "fa1606fb",
   "metadata": {},
   "outputs": [
    {
     "name": "stdout",
     "output_type": "stream",
     "text": [
      "rmse=0.991, Precision@K=0.000, Recall@K=0.001\n"
     ]
    }
   ],
   "source": [
    "#  評価\n",
    "metric_calculator = MetricCalculator()\n",
    "metrics = metric_calculator.calc(\n",
    "    movielens.test.rating.tolist(), recommend_result.rating.tolist(),\n",
    "    movielens.test_user2items, recommend_result.user2items, k=10)\n",
    "print(metrics)"
   ]
  }
 ],
 "metadata": {
  "kernelspec": {
   "display_name": "Python 3",
   "language": "python",
   "name": "python3"
  },
  "language_info": {
   "codemirror_mode": {
    "name": "ipython",
    "version": 3
   },
   "file_extension": ".py",
   "mimetype": "text/x-python",
   "name": "python",
   "nbconvert_exporter": "python",
   "pygments_lexer": "ipython3",
   "version": "3.10.12"
  }
 },
 "nbformat": 4,
 "nbformat_minor": 5
}
