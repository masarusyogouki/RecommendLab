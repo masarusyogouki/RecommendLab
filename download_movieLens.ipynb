{
 "cells": [
  {
   "cell_type": "code",
   "execution_count": 6,
   "id": "f7c8a65e",
   "metadata": {},
   "outputs": [
    {
     "name": "stdout",
     "output_type": "stream",
     "text": [
      "--2025-04-27 18:14:54--  https://files.grouplens.org/datasets/movielens/ml-10m.zip\n",
      "Resolving files.grouplens.org (files.grouplens.org)... 128.101.65.152\n",
      "Connecting to files.grouplens.org (files.grouplens.org)|128.101.65.152|:443... connected.\n",
      "HTTP request sent, awaiting response... 200 OK\n",
      "Length: 65566137 (63M) [application/zip]\n",
      "Saving to: ‘data/ml-10m.zip’\n",
      "\n",
      "ml-10m.zip          100%[===================>]  62.53M  2.36MB/s    in 31s     \n",
      "\n",
      "2025-04-27 18:15:26 (1.99 MB/s) - ‘data/ml-10m.zip’ saved [65566137/65566137]\n",
      "\n",
      "Archive:  data/ml-10m.zip\n",
      "   creating: data/ml-10M100K/\n",
      "  inflating: data/ml-10M100K/allbut.pl  \n",
      "  inflating: data/ml-10M100K/movies.dat  \n",
      "  inflating: data/ml-10M100K/ratings.dat  \n",
      "  inflating: data/ml-10M100K/README.html  \n",
      "  inflating: data/ml-10M100K/split_ratings.sh  \n",
      "  inflating: data/ml-10M100K/tags.dat  \n"
     ]
    }
   ],
   "source": [
    "# MovieLensデータをダウンロードするためのセル\n",
    "\n",
    "# データのダウンロードと解凍\n",
    "!mkdir -p data\n",
    "!wget -nc --no-check-certificate https://files.grouplens.org/datasets/movielens/ml-10m.zip -P data/\n",
    "!unzip -n data/ml-10m.zip -d data/"
   ]
  }
 ],
 "metadata": {
  "kernelspec": {
   "display_name": "Python 3",
   "language": "python",
   "name": "python3"
  },
  "language_info": {
   "codemirror_mode": {
    "name": "ipython",
    "version": 3
   },
   "file_extension": ".py",
   "mimetype": "text/x-python",
   "name": "python",
   "nbconvert_exporter": "python",
   "pygments_lexer": "ipython3",
   "version": "3.10.12"
  }
 },
 "nbformat": 4,
 "nbformat_minor": 5
}
